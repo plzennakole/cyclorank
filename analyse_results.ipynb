{
 "cells": [
  {
   "cell_type": "code",
   "execution_count": null,
   "id": "decreased-attention",
   "metadata": {},
   "outputs": [],
   "source": [
    "import json\n",
    "from functools import partial\n",
    "\n",
    "import pandas as pd\n",
    "import pyproj\n",
    "import numpy as np\n",
    "import shapely.ops as ops\n",
    "from tqdm import tqdm\n",
    "from shapely.geometry import shape\n",
    "\n",
    "import matplotlib.pyplot as plt\n",
    "import mplleaflet\n",
    "\n",
    "from city_conf import city_mappings"
   ]
  },
  {
   "cell_type": "markdown",
   "id": "growing-reservoir",
   "metadata": {},
   "source": [
    "## Map data results"
   ]
  },
  {
   "cell_type": "code",
   "execution_count": null,
   "id": "arctic-reminder",
   "metadata": {},
   "outputs": [],
   "source": [
    "def find_polygon_area(geojson):\n",
    "    geom = shape(geojson)\n",
    "    geom_area = ops.transform(\n",
    "        partial(\n",
    "            pyproj.transform,\n",
    "            pyproj.Proj(init='EPSG:4326'),\n",
    "            pyproj.Proj(\n",
    "                proj='aea',\n",
    "                lat_1=geom.bounds[1],\n",
    "                lat_2=geom.bounds[3]\n",
    "            )\n",
    "        ),\n",
    "        geom)\n",
    "    return geom_area.area / 1e6"
   ]
  },
  {
   "cell_type": "code",
   "execution_count": null,
   "id": "thousand-operation",
   "metadata": {},
   "outputs": [],
   "source": [
    "city_records = []\n",
    "for country_map in city_mappings:\n",
    "    for city in city_mappings[country_map]:\n",
    "        city_name = list(city.keys())[0]\n",
    "        osm_id = city[city_name][\"osm_id\"]\n",
    "        try:\n",
    "            with open(f\"results/{city_name}.json\", \"r\") as f:\n",
    "                city_record = json.load(f)\n",
    "\n",
    "            with open(f\"city_polygons/{city_name.lower()}_polygon.geojson\") as f:\n",
    "                city_polygon = json.load(f)\n",
    "\n",
    "            city_record[\"osm_id\"] = osm_id\n",
    "            city_record[\"area_km2\"] = find_polygon_area(city_polygon)\n",
    "            city_records.append(city_record)\n",
    "        except:\n",
    "            continue"
   ]
  },
  {
   "cell_type": "code",
   "execution_count": null,
   "id": "numerous-bryan",
   "metadata": {},
   "outputs": [],
   "source": [
    "df = pd.DataFrame(city_records)"
   ]
  },
  {
   "cell_type": "code",
   "execution_count": null,
   "id": "exterior-residence",
   "metadata": {},
   "outputs": [],
   "source": []
  },
  {
   "cell_type": "code",
   "execution_count": null,
   "id": "becoming-brake",
   "metadata": {},
   "outputs": [],
   "source": [
    "city_records_with_decay = []\n",
    "for country_map in city_mappings:\n",
    "    for city in city_mappings[country_map]:\n",
    "        city_name = list(city.keys())[0]\n",
    "        osm_id = city[city_name][\"osm_id\"]\n",
    "        try:\n",
    "            with open(f\"results/{city_name}_decay.json\", \"r\") as f:\n",
    "                city_record = json.load(f)\n",
    "\n",
    "            with open(f\"city_polygons/{city_name.lower()}_polygon.geojson\") as f:\n",
    "                city_polygon = json.load(f)\n",
    "\n",
    "            city_record[\"osm_id\"] = osm_id\n",
    "            city_record[\"area_km2\"] = find_polygon_area(city_polygon)\n",
    "            city_records_with_decay.append(city_record)\n",
    "        except:\n",
    "            continue"
   ]
  },
  {
   "cell_type": "code",
   "execution_count": null,
   "id": "civic-brain",
   "metadata": {},
   "outputs": [],
   "source": [
    "df_decay = pd.DataFrame(city_records_with_decay)"
   ]
  },
  {
   "cell_type": "code",
   "execution_count": null,
   "id": "binding-appraisal",
   "metadata": {},
   "outputs": [],
   "source": []
  },
  {
   "cell_type": "code",
   "execution_count": null,
   "id": "small-method",
   "metadata": {},
   "outputs": [],
   "source": [
    "df[\"overall_road_length\"] = df[\"total_cycling_road_length\"] + df[\"total_road_length\"]\n",
    "df_decay[\"overall_road_length\"] = df_decay[\"total_cycling_road_length\"] + df_decay[\"total_road_length\"]"
   ]
  },
  {
   "cell_type": "code",
   "execution_count": null,
   "id": "constant-projector",
   "metadata": {},
   "outputs": [],
   "source": [
    "df[\"cycle_road_share\"] = df[\"total_cycling_road_length\"] / df[\"overall_road_length\"]\n",
    "df_decay[\"cycle_road_share\"] = df_decay[\"total_cycling_road_length\"] / df_decay[\"overall_road_length\"]"
   ]
  },
  {
   "cell_type": "code",
   "execution_count": null,
   "id": "hybrid-italian",
   "metadata": {},
   "outputs": [],
   "source": [
    "df[\"cycle_track_share\"] = df[\"total_cycle_track_length\"] / df[\"overall_road_length\"]\n",
    "df_decay[\"cycle_track_share\"] = df_decay[\"total_cycle_track_length\"] / df_decay[\"overall_road_length\"]"
   ]
  },
  {
   "cell_type": "code",
   "execution_count": null,
   "id": "helpful-reproduction",
   "metadata": {},
   "outputs": [],
   "source": [
    "df[\"cycle_lane_share\"] = df[\"total_cycle_lane_length\"] / df[\"overall_road_length\"]\n",
    "df_decay[\"cycle_lane_share\"] = df_decay[\"total_cycle_lane_length\"] / df_decay[\"overall_road_length\"]"
   ]
  },
  {
   "cell_type": "code",
   "execution_count": null,
   "id": "matched-nation",
   "metadata": {},
   "outputs": [],
   "source": [
    "df[\"segregated_cycle_track_share\"] = df[\"total_segregated_cycle_track_length\"] / df[\"overall_road_length\"]\n",
    "df_decay[\"segregated_cycle_track_share\"] = df_decay[\"total_segregated_cycle_track_length\"] / df_decay[\n",
    "    \"overall_road_length\"]"
   ]
  },
  {
   "cell_type": "code",
   "execution_count": null,
   "id": "identical-sense",
   "metadata": {},
   "outputs": [],
   "source": [
    "df[\"rank_cycle_road_share\"] = df[\"cycle_road_share\"].rank(ascending=False).astype(int)\n",
    "df[\"rank_cycle_track_share\"] = df[\"cycle_track_share\"].rank(ascending=False).astype(int)\n",
    "df[\"rank_segregated_cycle_track_share\"] = df[\"segregated_cycle_track_share\"].rank(ascending=False).astype(int)"
   ]
  },
  {
   "cell_type": "code",
   "execution_count": null,
   "id": "fuzzy-innocent",
   "metadata": {},
   "outputs": [],
   "source": [
    "df_decay[\"rank_cycle_road_share\"] = df_decay[\"cycle_road_share\"].rank(ascending=False).astype(int)\n",
    "df_decay[\"rank_cycle_track_share\"] = df_decay[\"cycle_track_share\"].rank(ascending=False).astype(int)\n",
    "df_decay[\"rank_segregated_cycle_track_share\"] = df_decay[\"segregated_cycle_track_share\"].rank(ascending=False).astype(\n",
    "    int)"
   ]
  },
  {
   "cell_type": "code",
   "execution_count": null,
   "id": "certified-purse",
   "metadata": {},
   "outputs": [],
   "source": [
    "merged = df.merge(df_decay, on=[\"city_name\", \"osm_id\", \"area_km2\"], suffixes=[\"\", \"_decayed\"])\n",
    "\n",
    "# merged[\"overall_score\"] = merged[\"cycle_road_share_decayed\"] * merged[\"cycle_track_share_decayed\"] #* merged[\n",
    "#     \"segregated_cycle_track_share_decayed\"]\n",
    "# merged[\"overall_score\"] = merged[\"cycle_road_share\"] * merged[\"segregated_cycle_track_share\"]\n",
    "merged[\"overall_score\"] = merged[\"cycle_road_share_decayed\"]\n",
    "merged[\"overall_rank\"] = merged[\"overall_score\"].rank(ascending=False).astype(int)"
   ]
  },
  {
   "cell_type": "code",
   "execution_count": null,
   "id": "interpreted-insulin",
   "metadata": {},
   "outputs": [],
   "source": [
    "merged[\"parking_per_km2\"] = merged['parking_counter'] / merged[\"area_km2\"]"
   ]
  },
  {
   "cell_type": "code",
   "execution_count": null,
   "id": "alpha-alabama",
   "metadata": {},
   "outputs": [],
   "source": []
  },
  {
   "cell_type": "code",
   "execution_count": null,
   "id": "surface-statistics",
   "metadata": {},
   "outputs": [],
   "source": [
    "# merged[\"rank_diff\"] = (merged[\"cycle_road_share_decayed\"] - merged[\"cycle_road_share\"]) / merged[\"cycle_road_share\"]"
   ]
  },
  {
   "cell_type": "code",
   "execution_count": null,
   "id": "applied-mitchell",
   "metadata": {},
   "outputs": [],
   "source": [
    "merged[\"rank_diff\"] = merged[\"rank_cycle_road_share\"] - merged[\"rank_cycle_road_share_decayed\"]"
   ]
  },
  {
   "cell_type": "code",
   "execution_count": null,
   "id": "colored-action",
   "metadata": {},
   "outputs": [],
   "source": [
    "merged.sort_values(\"rank_diff\")"
   ]
  },
  {
   "cell_type": "code",
   "execution_count": null,
   "id": "southeast-rider",
   "metadata": {},
   "outputs": [],
   "source": [
    "raise ValueError"
   ]
  },
  {
   "cell_type": "code",
   "execution_count": null,
   "id": "rough-israeli",
   "metadata": {},
   "outputs": [],
   "source": [
    "### Print for web"
   ]
  },
  {
   "cell_type": "code",
   "execution_count": null,
   "id": "dress-above",
   "metadata": {},
   "outputs": [],
   "source": [
    "final = merged[\n",
    "    [\"city_name\",\n",
    "     \"osm_id\",\n",
    "     \"area_km2\",\n",
    "     \"total_road_length\",\n",
    "     \"total_cycling_road_length\",\n",
    "     \"cycle_road_share\",\n",
    "     \"cycle_track_share\",\n",
    "     \"cycle_lane_share\",\n",
    "     \"segregated_cycle_track_share\",\n",
    "     \"cycle_road_share_decayed\",\n",
    "     \"cycle_track_share_decayed\",\n",
    "     \"segregated_cycle_track_share_decayed\",\n",
    "     \"parking_per_km2\",\n",
    "     \"overall_rank\"]].round(3).rename(columns={\n",
    "    \"city_name\": \"City name\",\n",
    "    \"osm_id\": \"OSM id\",\n",
    "    \"area_km2\": \"Area (km2)\",\n",
    "    \"total_road_length\": \"Navigable road length (km)\",\n",
    "    \"total_cycling_road_length\": \"Navigable bike road length (km)\",\n",
    "    \"cycle_road_share\": \"Cycle road share\",\n",
    "    \"cycle_track_share\": \"Cycle track share\",\n",
    "    \"cycle_lane_share\": \"Cycle lane share\",\n",
    "    \"segregated_cycle_track_share\": \"Segregated track share\",\n",
    "    \"cycle_road_share_decayed\": \"Cycle road share (weighted)\",\n",
    "    \"cycle_track_share_decayed\": \"Cycle track share (weighted)\",\n",
    "    \"segregated_cycle_track_share_decayed\": \"Segregated track share (weighted)\",\n",
    "    \"parking_per_km2\": \"Parking spaces (per km2)\",\n",
    "    \"overall_rank\": \"Rank\"\n",
    "})"
   ]
  },
  {
   "cell_type": "code",
   "execution_count": null,
   "id": "saving-bidder",
   "metadata": {},
   "outputs": [],
   "source": [
    "final_for_blog = merged[\n",
    "    [\"city_name\",\n",
    "     \"osm_id\",\n",
    "     \"area_km2\",\n",
    "     \"total_road_length\",\n",
    "#      \"total_cycling_road_length\",\n",
    "     \"cycle_road_share_decayed\",\n",
    "#      \"cycle_track_share\",\n",
    "#      \"cycle_lane_share\",\n",
    "#      \"segregated_cycle_track_share\",\n",
    "#      \"cycle_road_share_decayed\",\n",
    "#      \"cycle_track_share_decayed\",\n",
    "#      \"segregated_cycle_track_share_decayed\",\n",
    "#      \"parking_per_km2\",\n",
    "     \"overall_rank\"]\n",
    "].round(3).rename(columns={\"city_name\": \"City name\", \"osm_id\": \"OSM id\", \"area_km2\": \"Area (km2)\", \"total_road_length\": \"Navigable road length (km)\", \"cycle_road_share_decayed\": \"Cycle road share (weighted)\", \"overall_rank\": \"Rank\"})"
   ]
  },
  {
   "cell_type": "code",
   "execution_count": null,
   "id": "exempt-finland",
   "metadata": {},
   "outputs": [],
   "source": []
  },
  {
   "cell_type": "code",
   "execution_count": null,
   "id": "united-young",
   "metadata": {},
   "outputs": [],
   "source": [
    "pd.set_option('display.max_rows', None)"
   ]
  },
  {
   "cell_type": "code",
   "execution_count": null,
   "id": "prescription-amber",
   "metadata": {
    "scrolled": false
   },
   "outputs": [],
   "source": [
    "final.sort_values(\"Rank\", ascending=True)"
   ]
  },
  {
   "cell_type": "code",
   "execution_count": null,
   "id": "electric-visibility",
   "metadata": {},
   "outputs": [],
   "source": [
    "print(final.to_html(index=False))"
   ]
  },
  {
   "cell_type": "code",
   "execution_count": null,
   "id": "electric-stamp",
   "metadata": {},
   "outputs": [],
   "source": [
    "print(final_for_blog.sort_values(\"Rank\", ascending=True).head(30).to_markdown(index=False))"
   ]
  },
  {
   "cell_type": "markdown",
   "id": "combined-maria",
   "metadata": {},
   "source": [
    "## Road network"
   ]
  },
  {
   "cell_type": "code",
   "execution_count": null,
   "id": "dirty-terry",
   "metadata": {},
   "outputs": [],
   "source": [
    "pd.set_option('display.max_rows', 100)"
   ]
  },
  {
   "cell_type": "code",
   "execution_count": null,
   "id": "closing-license",
   "metadata": {},
   "outputs": [],
   "source": [
    "from pyrosm import OSM"
   ]
  },
  {
   "cell_type": "code",
   "execution_count": null,
   "id": "civil-affairs",
   "metadata": {},
   "outputs": [],
   "source": [
    "osm_city = \"Tallinn\""
   ]
  },
  {
   "cell_type": "code",
   "execution_count": null,
   "id": "interior-mouse",
   "metadata": {},
   "outputs": [],
   "source": [
    "filepath = f'extracted_maps/{osm_city}.pbf'\n",
    "osm = OSM(filepath)\n",
    "# nodes_driving, edges_driving = osm.get_network(nodes=True, network_type=\"cycling\")\n",
    "# nodes_all, edges_all = osm.get_network(nodes=True, network_type=\"all\")\n",
    "drive_net = osm.get_network(network_type=\"cycling\")"
   ]
  },
  {
   "cell_type": "code",
   "execution_count": null,
   "id": "rocky-shade",
   "metadata": {},
   "outputs": [],
   "source": []
  },
  {
   "cell_type": "code",
   "execution_count": null,
   "id": "fuzzy-wilderness",
   "metadata": {},
   "outputs": [],
   "source": [
    "# import pickle\n",
    "# with open(f\"/Users/martin/Desktop/fun/cyclorank/results/{osm_city}_way_ids.pkl\", \"rb\") as f:\n",
    "#     way_ids = pickle.load(f)"
   ]
  },
  {
   "cell_type": "code",
   "execution_count": null,
   "id": "bibliographic-dictionary",
   "metadata": {},
   "outputs": [],
   "source": [
    "# subset = drive_net[drive_net[\"id\"].isin(list(way_ids.keys()))]"
   ]
  },
  {
   "cell_type": "code",
   "execution_count": null,
   "id": "narrative-collins",
   "metadata": {},
   "outputs": [],
   "source": [
    "# subset[\"length\"].sum() / drive_net[\"length\"].sum()"
   ]
  },
  {
   "cell_type": "code",
   "execution_count": null,
   "id": "human-orientation",
   "metadata": {},
   "outputs": [],
   "source": [
    "# lanes = subset[subset[\"highway\"] != \"cycleway\"]"
   ]
  },
  {
   "cell_type": "code",
   "execution_count": null,
   "id": "ultimate-pointer",
   "metadata": {},
   "outputs": [],
   "source": [
    "# subset.shape"
   ]
  },
  {
   "cell_type": "code",
   "execution_count": null,
   "id": "italic-assets",
   "metadata": {},
   "outputs": [],
   "source": [
    "# subset[\"length\"].sum()"
   ]
  },
  {
   "cell_type": "code",
   "execution_count": null,
   "id": "respiratory-principle",
   "metadata": {},
   "outputs": [],
   "source": []
  },
  {
   "cell_type": "code",
   "execution_count": null,
   "id": "physical-madagascar",
   "metadata": {},
   "outputs": [],
   "source": [
    "# subset.plot(figsize=(35,35), column=\"highway\", legend=True)"
   ]
  },
  {
   "cell_type": "code",
   "execution_count": null,
   "id": "joint-slovenia",
   "metadata": {},
   "outputs": [],
   "source": []
  },
  {
   "cell_type": "code",
   "execution_count": null,
   "id": "exempt-indication",
   "metadata": {},
   "outputs": [],
   "source": [
    "# paths = subset[subset[\"highway\"].isin([\"path\", \"footway\"])]"
   ]
  },
  {
   "cell_type": "code",
   "execution_count": null,
   "id": "nasty-weekend",
   "metadata": {},
   "outputs": [],
   "source": []
  },
  {
   "cell_type": "code",
   "execution_count": null,
   "id": "driven-thailand",
   "metadata": {},
   "outputs": [],
   "source": []
  },
  {
   "cell_type": "code",
   "execution_count": null,
   "id": "registered-benefit",
   "metadata": {},
   "outputs": [],
   "source": [
    "# import matplotlib.pyplot as plt\n"
   ]
  },
  {
   "cell_type": "code",
   "execution_count": null,
   "id": "funky-princess",
   "metadata": {},
   "outputs": [],
   "source": [
    "# expanded = paths.explode()"
   ]
  },
  {
   "cell_type": "code",
   "execution_count": null,
   "id": "clear-maple",
   "metadata": {},
   "outputs": [],
   "source": []
  },
  {
   "cell_type": "code",
   "execution_count": null,
   "id": "signed-rebate",
   "metadata": {},
   "outputs": [],
   "source": [
    "# way_to_coef = {}\n",
    "# i = 0\n",
    "\n",
    "# for w in way_ids:\n",
    "#     coef = way_ids[w][\"weighted_distance\"] / way_ids[w][\"raw_distance\"]\n",
    "#     way_to_coef[w] = coef"
   ]
  },
  {
   "cell_type": "code",
   "execution_count": null,
   "id": "international-final",
   "metadata": {},
   "outputs": [],
   "source": []
  },
  {
   "cell_type": "code",
   "execution_count": null,
   "id": "irish-tunnel",
   "metadata": {},
   "outputs": [],
   "source": [
    "# way_ids_for_viz = [24773942, 162582750, 65180197, 214469336, 91896352, 213878646]"
   ]
  },
  {
   "cell_type": "code",
   "execution_count": null,
   "id": "upset-domain",
   "metadata": {},
   "outputs": [],
   "source": [
    "# for w in way_ids_for_viz:\n",
    "#     print(w, way_to_coef[w])"
   ]
  },
  {
   "cell_type": "code",
   "execution_count": null,
   "id": "special-visiting",
   "metadata": {},
   "outputs": [],
   "source": []
  },
  {
   "cell_type": "code",
   "execution_count": null,
   "id": "raising-kidney",
   "metadata": {},
   "outputs": [],
   "source": [
    "# cycle_roads = drive_net[drive_net.id.isin(way_ids_for_viz)]"
   ]
  },
  {
   "cell_type": "code",
   "execution_count": null,
   "id": "civil-petroleum",
   "metadata": {},
   "outputs": [],
   "source": []
  },
  {
   "cell_type": "code",
   "execution_count": null,
   "id": "related-presentation",
   "metadata": {},
   "outputs": [],
   "source": [
    "# expanded = cycle_roads.explode()"
   ]
  },
  {
   "cell_type": "code",
   "execution_count": null,
   "id": "placed-times",
   "metadata": {},
   "outputs": [],
   "source": []
  },
  {
   "cell_type": "code",
   "execution_count": null,
   "id": "stainless-oracle",
   "metadata": {},
   "outputs": [],
   "source": [
    "# way_to_coord = {}"
   ]
  },
  {
   "cell_type": "code",
   "execution_count": null,
   "id": "consecutive-portrait",
   "metadata": {},
   "outputs": [],
   "source": [
    "# lngs = []\n",
    "# lats = []\n",
    "# ids = []\n",
    "# for geom, way_id in zip(expanded[\"geometry\"], expanded[\"id\"]):\n",
    "#     (start_lng, start_lat), (end_lng, end_lat) = geom.coords\n",
    "#     if way_id not in way_to_coord:\n",
    "#         way_to_coord[way_id] = (start_lat, start_lng)\n",
    "#     lngs.append((start_lng, end_lng))\n",
    "#     lats.append((start_lat, end_lat))\n",
    "#     ids.append(way_id)"
   ]
  },
  {
   "cell_type": "code",
   "execution_count": null,
   "id": "contemporary-ethnic",
   "metadata": {},
   "outputs": [],
   "source": [
    "# from shapely.geometry import Point, shape, Polygon, MultiPolygon\n",
    "# from functools import partial\n",
    "# import random\n",
    "# import pyproj\n",
    "# from shapely.ops import transform\n",
    "# import matplotlib.pyplot as plt\n",
    "\n",
    "# city_centroid = [24.7453688, 59.4372155]"
   ]
  },
  {
   "cell_type": "code",
   "execution_count": null,
   "id": "enabling-fruit",
   "metadata": {},
   "outputs": [],
   "source": [
    "# proj_wgs84 = pyproj.Proj('+proj=longlat +datum=WGS84')\n",
    "\n",
    "# def geodesic_point_buffer(lat, lon, km):\n",
    "#     # Azimuthal equidistant projection\n",
    "#     aeqd_proj = '+proj=aeqd +lat_0={lat} +lon_0={lon} +x_0=0 +y_0=0'\n",
    "#     project = partial(\n",
    "#         pyproj.transform,\n",
    "#         pyproj.Proj(aeqd_proj.format(lat=lat, lon=lon)),\n",
    "#         proj_wgs84)\n",
    "#     buf = Point(0, 0).buffer(km * 1000)  # distance in metres\n",
    "#     return transform(project, buf).exterior.coords[:]\n",
    "\n",
    "# def create_circle_around_coord(lat, lon, km):\n",
    "#     b = geodesic_point_buffer(lat, lon, km)\n",
    "#     circle_lats = [x[1] for x in b]\n",
    "#     circle_lngs = [x[0] for x in b]\n",
    "#     return circle_lats, circle_lngs, b"
   ]
  },
  {
   "cell_type": "code",
   "execution_count": null,
   "id": "capable-cartridge",
   "metadata": {},
   "outputs": [],
   "source": [
    "# circle = create_circle_around_coord(city_centroid[1], city_centroid[0], 8)"
   ]
  },
  {
   "cell_type": "code",
   "execution_count": null,
   "id": "worst-comedy",
   "metadata": {},
   "outputs": [],
   "source": [
    "# plt.scatter(city_centroid[0], city_centroid[1], color='gray', marker='o', s=200)\n",
    "# plt.plot(circle[1], circle[0], '-.', color=\"royalblue\")\n",
    "# for i in tqdm(range(len(lngs))):\n",
    "# #     color = str(color_map(way_to_coef[ids[i]]))\n",
    "#     color = \"blue\"\n",
    "#     plt.plot(lngs[i], lats[i], linewidth=2.0, color=color)\n",
    "# mplleaflet.show(tiles=\"cartodb_positron\")"
   ]
  },
  {
   "cell_type": "code",
   "execution_count": null,
   "id": "individual-railway",
   "metadata": {},
   "outputs": [],
   "source": []
  },
  {
   "cell_type": "markdown",
   "id": "criminal-queen",
   "metadata": {},
   "source": [
    "## European map"
   ]
  },
  {
   "cell_type": "code",
   "execution_count": null,
   "id": "sharing-return",
   "metadata": {},
   "outputs": [],
   "source": [
    "from city_conf import city_mappings"
   ]
  },
  {
   "cell_type": "code",
   "execution_count": null,
   "id": "anonymous-chester",
   "metadata": {},
   "outputs": [],
   "source": [
    "city_centres = {}\n",
    "for country in city_mappings:\n",
    "    for city in city_mappings[country]:\n",
    "        city_name = list(city.keys())[0]\n",
    "        city_centre = city[city_name]['centre']\n",
    "        city_centres[city_name] = city_centre"
   ]
  },
  {
   "cell_type": "code",
   "execution_count": null,
   "id": "brilliant-walker",
   "metadata": {},
   "outputs": [],
   "source": []
  },
  {
   "cell_type": "code",
   "execution_count": null,
   "id": "center-smart",
   "metadata": {},
   "outputs": [],
   "source": [
    "from bs4 import BeautifulSoup\n",
    "import requests"
   ]
  },
  {
   "cell_type": "code",
   "execution_count": null,
   "id": "arbitrary-pension",
   "metadata": {},
   "outputs": [],
   "source": [
    "html = \"https://en.wikipedia.org/wiki/List_of_cities_in_the_European_Union_by_population_within_city_limits\""
   ]
  },
  {
   "cell_type": "code",
   "execution_count": null,
   "id": "everyday-frost",
   "metadata": {},
   "outputs": [],
   "source": [
    "parsed_html = BeautifulSoup(requests.get(html).text)"
   ]
  },
  {
   "cell_type": "code",
   "execution_count": null,
   "id": "textile-center",
   "metadata": {},
   "outputs": [],
   "source": [
    "table = parsed_html.find('table')"
   ]
  },
  {
   "cell_type": "code",
   "execution_count": null,
   "id": "expired-webster",
   "metadata": {},
   "outputs": [],
   "source": [
    "df = pd.read_html(html)[0]"
   ]
  },
  {
   "cell_type": "code",
   "execution_count": null,
   "id": "coated-knock",
   "metadata": {},
   "outputs": [],
   "source": [
    "cities = []\n",
    "pops = []\n",
    "shares = []\n",
    "\n",
    "for city_name, pop in zip(df[\"City\"], df[\"Officialpopulation\"]):\n",
    "    if (city_name in city_centres) and (city_name in final[\"City name\"].values):\n",
    "        cities.append(city_name)\n",
    "        pops.append(np.log(pop))\n",
    "        shares.append(final[final[\"City name\"] == city_name][\"Cycle road share (weighted)\"].iloc[0])"
   ]
  },
  {
   "cell_type": "code",
   "execution_count": null,
   "id": "hired-stable",
   "metadata": {},
   "outputs": [],
   "source": [
    "plt.scatter(pops, shares)\n",
    "m, b = np.polyfit(np.array(pops), np.array(shares), 1)\n",
    "plt.plot(pops, m*np.array(pops) + b, '--', color='blue')\n",
    "plt.xlabel(\"Log(population)\")\n",
    "plt.ylabel(\"Cycle road share (weighted)\")\n",
    "plt.show()"
   ]
  },
  {
   "cell_type": "code",
   "execution_count": null,
   "id": "environmental-scotland",
   "metadata": {},
   "outputs": [],
   "source": []
  },
  {
   "cell_type": "code",
   "execution_count": null,
   "id": "sharp-nickname",
   "metadata": {},
   "outputs": [],
   "source": []
  },
  {
   "cell_type": "code",
   "execution_count": null,
   "id": "acoustic-persian",
   "metadata": {},
   "outputs": [],
   "source": []
  },
  {
   "cell_type": "code",
   "execution_count": null,
   "id": "efficient-anniversary",
   "metadata": {},
   "outputs": [],
   "source": [
    "np.exp(13)"
   ]
  },
  {
   "cell_type": "code",
   "execution_count": null,
   "id": "empirical-mongolia",
   "metadata": {},
   "outputs": [],
   "source": []
  },
  {
   "cell_type": "code",
   "execution_count": null,
   "id": "hazardous-guidance",
   "metadata": {},
   "outputs": [],
   "source": []
  },
  {
   "cell_type": "code",
   "execution_count": null,
   "id": "entire-roommate",
   "metadata": {},
   "outputs": [],
   "source": [
    "lats = [city_centres[c][0] for c in city_centres]\n",
    "lngs = [city_centres[c][1] for c in city_centres]\n",
    "shares = []\n",
    "for city_name in city_centres:\n",
    "    shares.append(final[final[\"city_name\"] == city_name][\"cycle_road_share_decayed\"].iloc[0])\n",
    "    \n",
    "plt.scatter(lngs, lats, s=np.array(shares)*3000, alpha=0.6)\n",
    "mplleaflet.show()"
   ]
  },
  {
   "cell_type": "code",
   "execution_count": null,
   "id": "roman-disposition",
   "metadata": {},
   "outputs": [],
   "source": []
  },
  {
   "cell_type": "code",
   "execution_count": null,
   "id": "molecular-energy",
   "metadata": {},
   "outputs": [],
   "source": []
  }
 ],
 "metadata": {
  "kernelspec": {
   "display_name": "py39",
   "language": "python",
   "name": "py39"
  },
  "language_info": {
   "codemirror_mode": {
    "name": "ipython",
    "version": 3
   },
   "file_extension": ".py",
   "mimetype": "text/x-python",
   "name": "python",
   "nbconvert_exporter": "python",
   "pygments_lexer": "ipython3",
   "version": "3.8.8"
  }
 },
 "nbformat": 4,
 "nbformat_minor": 5
}
