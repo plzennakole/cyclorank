{
 "cells": [
  {
   "cell_type": "code",
   "execution_count": null,
   "id": "decreased-attention",
   "metadata": {},
   "outputs": [],
   "source": [
    "import json\n",
    "from functools import partial\n",
    "\n",
    "import pandas as pd\n",
    "import pyproj\n",
    "import shapely.ops as ops\n",
    "from shapely.geometry import shape\n",
    "\n",
    "from city_conf import city_mappings"
   ]
  },
  {
   "cell_type": "markdown",
   "id": "growing-reservoir",
   "metadata": {},
   "source": [
    "## Map data results"
   ]
  },
  {
   "cell_type": "code",
   "execution_count": null,
   "id": "arctic-reminder",
   "metadata": {},
   "outputs": [],
   "source": [
    "def find_polygon_area(geojson):\n",
    "    geom = shape(geojson)\n",
    "    geom_area = ops.transform(\n",
    "        partial(\n",
    "            pyproj.transform,\n",
    "            pyproj.Proj(init='EPSG:4326'),\n",
    "            pyproj.Proj(\n",
    "                proj='aea',\n",
    "                lat_1=geom.bounds[1],\n",
    "                lat_2=geom.bounds[3]\n",
    "            )\n",
    "        ),\n",
    "        geom)\n",
    "    return geom_area.area / 1e6"
   ]
  },
  {
   "cell_type": "code",
   "execution_count": null,
   "id": "thousand-operation",
   "metadata": {},
   "outputs": [],
   "source": [
    "city_records = []\n",
    "for country_map in city_mappings:\n",
    "    for city in city_mappings[country_map]:\n",
    "        city_name = list(city.keys())[0]\n",
    "        osm_id = city[city_name][\"osm_id\"]\n",
    "        try:\n",
    "            with open(f\"results/{city_name}.json\", \"r\") as f:\n",
    "                city_record = json.load(f)\n",
    "\n",
    "            with open(f\"city_polygons/{city_name.lower()}_polygon.geojson\") as f:\n",
    "                city_polygon = json.load(f)\n",
    "\n",
    "            city_record[\"osm_id\"] = osm_id\n",
    "            city_record[\"area_km2\"] = find_polygon_area(city_polygon)\n",
    "            city_records.append(city_record)\n",
    "        except:\n",
    "            continue"
   ]
  },
  {
   "cell_type": "code",
   "execution_count": null,
   "id": "numerous-bryan",
   "metadata": {},
   "outputs": [],
   "source": [
    "df = pd.DataFrame(city_records)"
   ]
  },
  {
   "cell_type": "code",
   "execution_count": null,
   "id": "exterior-residence",
   "metadata": {},
   "outputs": [],
   "source": []
  },
  {
   "cell_type": "code",
   "execution_count": null,
   "id": "becoming-brake",
   "metadata": {},
   "outputs": [],
   "source": [
    "city_records_with_decay = []\n",
    "for country_map in city_mappings:\n",
    "    for city in city_mappings[country_map]:\n",
    "        city_name = list(city.keys())[0]\n",
    "        osm_id = city[city_name][\"osm_id\"]\n",
    "        try:\n",
    "            with open(f\"results/{city_name}_decay.json\", \"r\") as f:\n",
    "                city_record = json.load(f)\n",
    "\n",
    "            with open(f\"city_polygons/{city_name.lower()}_polygon.geojson\") as f:\n",
    "                city_polygon = json.load(f)\n",
    "\n",
    "            city_record[\"osm_id\"] = osm_id\n",
    "            city_record[\"area_km2\"] = find_polygon_area(city_polygon)\n",
    "            city_records_with_decay.append(city_record)\n",
    "        except:\n",
    "            continue"
   ]
  },
  {
   "cell_type": "code",
   "execution_count": null,
   "id": "civic-brain",
   "metadata": {},
   "outputs": [],
   "source": [
    "df_decay = pd.DataFrame(city_records_with_decay)"
   ]
  },
  {
   "cell_type": "code",
   "execution_count": null,
   "id": "binding-appraisal",
   "metadata": {},
   "outputs": [],
   "source": []
  },
  {
   "cell_type": "code",
   "execution_count": null,
   "id": "small-method",
   "metadata": {},
   "outputs": [],
   "source": [
    "df[\"overall_road_length\"] = df[\"total_cycling_road_length\"] + df[\"total_road_length\"]\n",
    "df_decay[\"overall_road_length\"] = df_decay[\"total_cycling_road_length\"] + df_decay[\"total_road_length\"]"
   ]
  },
  {
   "cell_type": "code",
   "execution_count": null,
   "id": "constant-projector",
   "metadata": {},
   "outputs": [],
   "source": [
    "df[\"cycle_road_share\"] = df[\"total_cycling_road_length\"] / df[\"overall_road_length\"]\n",
    "df_decay[\"cycle_road_share\"] = df_decay[\"total_cycling_road_length\"] / df_decay[\"overall_road_length\"]"
   ]
  },
  {
   "cell_type": "code",
   "execution_count": null,
   "id": "hybrid-italian",
   "metadata": {},
   "outputs": [],
   "source": [
    "df[\"cycle_track_share\"] = df[\"total_cycle_track_length\"] / df[\"overall_road_length\"]\n",
    "df_decay[\"cycle_track_share\"] = df_decay[\"total_cycle_track_length\"] / df_decay[\"overall_road_length\"]"
   ]
  },
  {
   "cell_type": "code",
   "execution_count": null,
   "id": "matched-nation",
   "metadata": {},
   "outputs": [],
   "source": [
    "df[\"segregated_cycle_track_share\"] = df[\"total_segregated_cycle_track_length\"] / df[\"overall_road_length\"]\n",
    "df_decay[\"segregated_cycle_track_share\"] = df_decay[\"total_segregated_cycle_track_length\"] / df_decay[\n",
    "    \"overall_road_length\"]"
   ]
  },
  {
   "cell_type": "code",
   "execution_count": null,
   "id": "identical-sense",
   "metadata": {},
   "outputs": [],
   "source": [
    "df[\"rank_cycle_road_share\"] = df[\"cycle_road_share\"].rank(ascending=False).astype(int)\n",
    "df[\"rank_cycle_track_share\"] = df[\"cycle_track_share\"].rank(ascending=False).astype(int)\n",
    "df[\"rank_segregated_cycle_track_share\"] = df[\"segregated_cycle_track_share\"].rank(ascending=False).astype(int)"
   ]
  },
  {
   "cell_type": "code",
   "execution_count": null,
   "id": "fuzzy-innocent",
   "metadata": {},
   "outputs": [],
   "source": [
    "df_decay[\"rank_cycle_road_share\"] = df_decay[\"cycle_road_share\"].rank(ascending=False).astype(int)\n",
    "df_decay[\"rank_cycle_track_share\"] = df_decay[\"cycle_track_share\"].rank(ascending=False).astype(int)\n",
    "df_decay[\"rank_segregated_cycle_track_share\"] = df_decay[\"segregated_cycle_track_share\"].rank(ascending=False).astype(\n",
    "    int)"
   ]
  },
  {
   "cell_type": "code",
   "execution_count": null,
   "id": "certified-purse",
   "metadata": {},
   "outputs": [],
   "source": [
    "merged = df.merge(df_decay, on=[\"city_name\", \"osm_id\", \"area_km2\"], suffixes=[\"\", \"_decayed\"])\n",
    "\n",
    "# merged[\"overall_score\"] = merged[\"cycle_road_share_decayed\"] * merged[\"cycle_track_share_decayed\"] #* merged[\n",
    "#     \"segregated_cycle_track_share_decayed\"]\n",
    "merged[\"overall_score\"] = merged[\"cycle_road_share\"] * merged[\"segregated_cycle_track_share\"]\n",
    "merged[\"overall_rank\"] = merged[\"overall_score\"].rank(ascending=False).astype(int)"
   ]
  },
  {
   "cell_type": "code",
   "execution_count": null,
   "id": "interpreted-insulin",
   "metadata": {},
   "outputs": [],
   "source": [
    "merged[\"parking_per_km2\"] = merged['parking_counter'] / merged[\"area_km2\"]"
   ]
  },
  {
   "cell_type": "code",
   "execution_count": null,
   "id": "alpha-alabama",
   "metadata": {},
   "outputs": [],
   "source": []
  },
  {
   "cell_type": "code",
   "execution_count": null,
   "id": "dress-above",
   "metadata": {},
   "outputs": [],
   "source": [
    "final = merged[\n",
    "    [\"city_name\", \"osm_id\", \"area_km2\",\n",
    "     \"total_road_length\",\n",
    "     \"total_cycling_road_length\",\n",
    "     \"cycle_road_share\",\n",
    "#      \"cycle_track_share\",\n",
    "     \"segregated_cycle_track_share\",\n",
    "     \"rank_cycle_road_share\",\n",
    "#      \"rank_cycle_track_share\",\n",
    "     \"rank_segregated_cycle_track_share\",\n",
    "     \"rank_cycle_road_share_decayed\",\n",
    "#      \"rank_cycle_track_share_decayed\",\n",
    "     \"rank_segregated_cycle_track_share_decayed\",\n",
    "     \"parking_per_km2\",\n",
    "     \"overall_rank\"]].round(3)"
   ]
  },
  {
   "cell_type": "code",
   "execution_count": null,
   "id": "exempt-finland",
   "metadata": {},
   "outputs": [],
   "source": []
  },
  {
   "cell_type": "code",
   "execution_count": null,
   "id": "united-young",
   "metadata": {},
   "outputs": [],
   "source": [
    "pd.set_option('display.max_rows', None)"
   ]
  },
  {
   "cell_type": "code",
   "execution_count": null,
   "id": "prescription-amber",
   "metadata": {
    "scrolled": false
   },
   "outputs": [],
   "source": [
    "final.sort_values(\"overall_rank\", ascending=True).head(100)"
   ]
  },
  {
   "cell_type": "code",
   "execution_count": null,
   "id": "noticed-programming",
   "metadata": {},
   "outputs": [],
   "source": [
    "final[final.city_name == \"Tallinn\"]"
   ]
  },
  {
   "cell_type": "markdown",
   "id": "combined-maria",
   "metadata": {},
   "source": [
    "## Road network"
   ]
  },
  {
   "cell_type": "code",
   "execution_count": null,
   "id": "dirty-terry",
   "metadata": {},
   "outputs": [],
   "source": [
    "pd.set_option('display.max_rows', 100)"
   ]
  },
  {
   "cell_type": "code",
   "execution_count": null,
   "id": "closing-license",
   "metadata": {},
   "outputs": [],
   "source": [
    "from pyrosm import OSM"
   ]
  },
  {
   "cell_type": "code",
   "execution_count": null,
   "id": "civil-affairs",
   "metadata": {},
   "outputs": [],
   "source": [
    "osm_city = \"Tallinn\""
   ]
  },
  {
   "cell_type": "code",
   "execution_count": null,
   "id": "interior-mouse",
   "metadata": {},
   "outputs": [],
   "source": [
    "filepath = f'extracted_maps/{osm_city}.pbf'\n",
    "osm = OSM(filepath)\n",
    "# nodes_driving, edges_driving = osm.get_network(nodes=True, network_type=\"cycling\")\n",
    "# nodes_all, edges_all = osm.get_network(nodes=True, network_type=\"all\")\n",
    "drive_net = osm.get_network(network_type=\"cycling\")"
   ]
  },
  {
   "cell_type": "code",
   "execution_count": null,
   "id": "electric-library",
   "metadata": {},
   "outputs": [],
   "source": [
    "drive_net.sort_values(\"length\")"
   ]
  },
  {
   "cell_type": "code",
   "execution_count": null,
   "id": "composite-eclipse",
   "metadata": {},
   "outputs": [],
   "source": []
  },
  {
   "cell_type": "code",
   "execution_count": null,
   "id": "rocky-shade",
   "metadata": {},
   "outputs": [],
   "source": []
  },
  {
   "cell_type": "code",
   "execution_count": null,
   "id": "fuzzy-wilderness",
   "metadata": {},
   "outputs": [],
   "source": []
  },
  {
   "cell_type": "code",
   "execution_count": null,
   "id": "bibliographic-dictionary",
   "metadata": {},
   "outputs": [],
   "source": [
    "subset = drive_net[drive_net[\"id\"].isin(list(way_ids.keys()))]"
   ]
  },
  {
   "cell_type": "code",
   "execution_count": null,
   "id": "narrative-collins",
   "metadata": {},
   "outputs": [],
   "source": [
    "subset[\"length\"].sum() / drive_net[\"length\"].sum()"
   ]
  },
  {
   "cell_type": "code",
   "execution_count": null,
   "id": "human-orientation",
   "metadata": {},
   "outputs": [],
   "source": [
    "lanes = subset[subset[\"highway\"] != \"cycleway\"]"
   ]
  },
  {
   "cell_type": "code",
   "execution_count": null,
   "id": "ultimate-pointer",
   "metadata": {},
   "outputs": [],
   "source": [
    "subset.shape"
   ]
  },
  {
   "cell_type": "code",
   "execution_count": null,
   "id": "italic-assets",
   "metadata": {},
   "outputs": [],
   "source": [
    "subset[\"length\"].sum()"
   ]
  },
  {
   "cell_type": "code",
   "execution_count": null,
   "id": "integral-female",
   "metadata": {},
   "outputs": [],
   "source": [
    "lanes[\"length\"].sum()"
   ]
  },
  {
   "cell_type": "code",
   "execution_count": null,
   "id": "respiratory-principle",
   "metadata": {},
   "outputs": [],
   "source": []
  },
  {
   "cell_type": "code",
   "execution_count": null,
   "id": "physical-madagascar",
   "metadata": {},
   "outputs": [],
   "source": [
    "subset.plot(figsize=(35,35), column=\"highway\", legend=True)"
   ]
  },
  {
   "cell_type": "code",
   "execution_count": null,
   "id": "marine-suspension",
   "metadata": {},
   "outputs": [],
   "source": [
    "subset.sort_values(\"length\")"
   ]
  },
  {
   "cell_type": "code",
   "execution_count": null,
   "id": "joint-slovenia",
   "metadata": {},
   "outputs": [],
   "source": []
  },
  {
   "cell_type": "code",
   "execution_count": null,
   "id": "exempt-indication",
   "metadata": {},
   "outputs": [],
   "source": [
    "paths = subset[subset[\"highway\"].isin([\"path\", \"footway\"])]"
   ]
  },
  {
   "cell_type": "code",
   "execution_count": null,
   "id": "nasty-weekend",
   "metadata": {},
   "outputs": [],
   "source": []
  },
  {
   "cell_type": "code",
   "execution_count": null,
   "id": "driven-thailand",
   "metadata": {},
   "outputs": [],
   "source": []
  },
  {
   "cell_type": "code",
   "execution_count": null,
   "id": "registered-benefit",
   "metadata": {},
   "outputs": [],
   "source": [
    "import matplotlib.pyplot as plt\n",
    "import mplleaflet"
   ]
  },
  {
   "cell_type": "code",
   "execution_count": null,
   "id": "lucky-mexico",
   "metadata": {},
   "outputs": [],
   "source": []
  },
  {
   "cell_type": "code",
   "execution_count": null,
   "id": "quantitative-jacob",
   "metadata": {},
   "outputs": [],
   "source": []
  },
  {
   "cell_type": "code",
   "execution_count": null,
   "id": "funky-princess",
   "metadata": {},
   "outputs": [],
   "source": [
    "expanded = paths.explode()"
   ]
  },
  {
   "cell_type": "code",
   "execution_count": null,
   "id": "alternative-carol",
   "metadata": {},
   "outputs": [],
   "source": [
    "# colors = [\"red\" if x == \"footway\" else \"blue\" for x in expanded[\"highway\"]]\n",
    "\n",
    "# lngs = []\n",
    "# lats = []\n",
    "# for geom in expanded[\"geometry\"]:\n",
    "#     (start_lng, start_lat), (end_lng, end_lat) = geom.coords\n",
    "#     lngs.append((start_lng, end_lng))\n",
    "#     lats.append((start_lat, end_lat))"
   ]
  },
  {
   "cell_type": "code",
   "execution_count": null,
   "id": "reflected-leadership",
   "metadata": {},
   "outputs": [],
   "source": [
    "# from tqdm import tqdm"
   ]
  },
  {
   "cell_type": "code",
   "execution_count": null,
   "id": "juvenile-baseball",
   "metadata": {},
   "outputs": [],
   "source": [
    "# for i in tqdm(range(len(lngs))):\n",
    "#     plt.plot(lngs[i], lats[i], linewidth=3.0, color=colors[i])    \n",
    "# mplleaflet.show()"
   ]
  },
  {
   "cell_type": "code",
   "execution_count": null,
   "id": "allied-appearance",
   "metadata": {},
   "outputs": [],
   "source": [
    "# TODO remove footways\n",
    "# TODO review oneway weighting\n",
    "# TODO make cool plots"
   ]
  },
  {
   "cell_type": "code",
   "execution_count": null,
   "id": "sensitive-present",
   "metadata": {},
   "outputs": [],
   "source": [
    "# expanded.groupby(\"highway\")[\"length\"].sum() / expanded[\"length\"].sum()"
   ]
  },
  {
   "cell_type": "code",
   "execution_count": null,
   "id": "clear-maple",
   "metadata": {},
   "outputs": [],
   "source": []
  },
  {
   "cell_type": "code",
   "execution_count": null,
   "id": "scheduled-climb",
   "metadata": {},
   "outputs": [],
   "source": [
    "import pickle\n",
    "with open(f\"/Users/martin/Desktop/fun/cyclorank/results/{osm_city}_way_ids.pkl\", \"rb\") as f:\n",
    "    way_ids = pickle.load(f)"
   ]
  },
  {
   "cell_type": "code",
   "execution_count": null,
   "id": "signed-rebate",
   "metadata": {},
   "outputs": [],
   "source": [
    "way_to_coef = {}\n",
    "i = 0\n",
    "\n",
    "for w in way_ids:\n",
    "    coef = way_ids[w][\"weighted_distance\"] / way_ids[w][\"raw_distance\"]\n",
    "    way_to_coef[w] = coef"
   ]
  },
  {
   "cell_type": "code",
   "execution_count": null,
   "id": "special-visiting",
   "metadata": {},
   "outputs": [],
   "source": []
  },
  {
   "cell_type": "code",
   "execution_count": null,
   "id": "raising-kidney",
   "metadata": {},
   "outputs": [],
   "source": [
    "two_lanes = drive_net[drive_net.id.isin(way_ids)]"
   ]
  },
  {
   "cell_type": "code",
   "execution_count": null,
   "id": "civil-petroleum",
   "metadata": {},
   "outputs": [],
   "source": []
  },
  {
   "cell_type": "code",
   "execution_count": null,
   "id": "related-presentation",
   "metadata": {},
   "outputs": [],
   "source": [
    "expanded = two_lanes.explode()"
   ]
  },
  {
   "cell_type": "code",
   "execution_count": null,
   "id": "antique-wyoming",
   "metadata": {},
   "outputs": [],
   "source": [
    "from colour import Color\n",
    "red = Color(\"gray\")\n",
    "colors = list(red.range_to(Color(\"red\"),11))"
   ]
  },
  {
   "cell_type": "code",
   "execution_count": null,
   "id": "communist-composer",
   "metadata": {},
   "outputs": [],
   "source": [
    "def color_map(coef): return colors[int(round(coef*10))]"
   ]
  },
  {
   "cell_type": "code",
   "execution_count": null,
   "id": "placed-times",
   "metadata": {},
   "outputs": [],
   "source": []
  },
  {
   "cell_type": "code",
   "execution_count": null,
   "id": "stainless-oracle",
   "metadata": {},
   "outputs": [],
   "source": [
    "way_to_coord = {}"
   ]
  },
  {
   "cell_type": "code",
   "execution_count": null,
   "id": "consecutive-portrait",
   "metadata": {},
   "outputs": [],
   "source": [
    "lngs = []\n",
    "lats = []\n",
    "ids = []\n",
    "for geom, way_id in zip(expanded[\"geometry\"], expanded[\"id\"]):\n",
    "    (start_lng, start_lat), (end_lng, end_lat) = geom.coords\n",
    "    if way_id not in way_to_coord:\n",
    "        way_to_coord[way_id] = (start_lat, start_lng)\n",
    "    lngs.append((start_lng, end_lng))\n",
    "    lats.append((start_lat, end_lat))\n",
    "    ids.append(way_id)"
   ]
  },
  {
   "cell_type": "code",
   "execution_count": null,
   "id": "contemporary-ethnic",
   "metadata": {},
   "outputs": [],
   "source": [
    "from shapely.geometry import Point, shape, Polygon, MultiPolygon\n",
    "from functools import partial\n",
    "import random\n",
    "import pyproj\n",
    "from shapely.ops import transform\n",
    "import matplotlib.pyplot as plt\n",
    "\n",
    "city_centroid = [24.7453688, 59.4372155]"
   ]
  },
  {
   "cell_type": "code",
   "execution_count": null,
   "id": "enabling-fruit",
   "metadata": {},
   "outputs": [],
   "source": [
    "proj_wgs84 = pyproj.Proj('+proj=longlat +datum=WGS84')\n",
    "\n",
    "def geodesic_point_buffer(lat, lon, km):\n",
    "    # Azimuthal equidistant projection\n",
    "    aeqd_proj = '+proj=aeqd +lat_0={lat} +lon_0={lon} +x_0=0 +y_0=0'\n",
    "    project = partial(\n",
    "        pyproj.transform,\n",
    "        pyproj.Proj(aeqd_proj.format(lat=lat, lon=lon)),\n",
    "        proj_wgs84)\n",
    "    buf = Point(0, 0).buffer(km * 1000)  # distance in metres\n",
    "    return transform(project, buf).exterior.coords[:]\n",
    "\n",
    "def create_circle_around_coord(lat, lon, km):\n",
    "    b = geodesic_point_buffer(lat, lon, km)\n",
    "    circle_lats = [x[1] for x in b]\n",
    "    circle_lngs = [x[0] for x in b]\n",
    "    return circle_lats, circle_lngs, b"
   ]
  },
  {
   "cell_type": "code",
   "execution_count": null,
   "id": "capable-cartridge",
   "metadata": {},
   "outputs": [],
   "source": [
    "circle = create_circle_around_coord(city_centroid[1], city_centroid[0], 8)"
   ]
  },
  {
   "cell_type": "code",
   "execution_count": null,
   "id": "worst-comedy",
   "metadata": {},
   "outputs": [],
   "source": [
    "plt.scatter(city_centroid[0], city_centroid[1], color='red', marker='x', s=500)\n",
    "plt.plot(circle[1], circle[0], '-.', color=\"#812a2a\")\n",
    "for i in tqdm(range(len(lngs))):\n",
    "    color = str(color_map(way_to_coef[ids[i]]))\n",
    "    plt.plot(lngs[i], lats[i], linewidth=2.0, color=color)\n",
    "mplleaflet.show(tiles=\"cartodb_positron\")"
   ]
  },
  {
   "cell_type": "code",
   "execution_count": null,
   "id": "individual-railway",
   "metadata": {},
   "outputs": [],
   "source": []
  },
  {
   "cell_type": "code",
   "execution_count": null,
   "id": "loving-registrar",
   "metadata": {},
   "outputs": [],
   "source": []
  },
  {
   "cell_type": "markdown",
   "id": "mighty-palestine",
   "metadata": {},
   "source": [
    "## Routing results"
   ]
  },
  {
   "cell_type": "code",
   "execution_count": null,
   "id": "instrumental-saskatchewan",
   "metadata": {},
   "outputs": [],
   "source": [
    "raise ValueError"
   ]
  },
  {
   "cell_type": "markdown",
   "id": "comparative-management",
   "metadata": {},
   "source": [
    "### Sample coordinates around centroid"
   ]
  },
  {
   "cell_type": "code",
   "execution_count": null,
   "id": "hybrid-express",
   "metadata": {},
   "outputs": [],
   "source": [
    "\n",
    "\n"
   ]
  },
  {
   "cell_type": "code",
   "execution_count": null,
   "id": "miniature-burst",
   "metadata": {},
   "outputs": [],
   "source": [
    "city_name = \"Bucharest\""
   ]
  },
  {
   "cell_type": "code",
   "execution_count": null,
   "id": "threaded-discussion",
   "metadata": {},
   "outputs": [],
   "source": [
    "def random_points_within(circle_polygon, city_polygon, num_points):\n",
    "    min_x, min_y, max_x, max_y = circle_polygon.bounds\n",
    "\n",
    "    points = []\n",
    "\n",
    "    while len(points) < num_points:\n",
    "        random_point = Point([random.uniform(min_x, max_x), random.uniform(min_y, max_y)])\n",
    "        if random_point.within(circle_polygon):\n",
    "            if random_point.within(city_polygon):\n",
    "                points.append(random_point)\n",
    "\n",
    "    return points\n",
    "\n",
    "\n",
    "\n",
    "\n",
    "\n",
    "def create_circle_around_coord(lat, lon, km):\n",
    "    b = geodesic_point_buffer(lat, lon, km)\n",
    "    circle_lats = [x[1] for x in b]\n",
    "    circle_lngs = [x[0] for x in b]\n",
    "    return circle_lats, circle_lngs, b\n",
    "\n",
    "\n",
    "def load_city_shapes(city_name):\n",
    "    with open(f\"city_polygons/{city_name.lower()}_polygon.geojson\") as f:\n",
    "        city_json = json.load(f)\n",
    "\n",
    "    city_polygon = city_json[\"geometries\"][0]\n",
    "    city_shape = shape(city_polygon)\n",
    "            \n",
    "    with open(f\"city_polygons/{city_name.lower()}.geojson\") as f:\n",
    "        city_json = json.load(f)\n",
    "\n",
    "    city_centroid_shape = shape(city_json)\n",
    "    city_centroid = Point((city_centroid_shape.centroid.y, city_centroid_shape.centroid.x))\n",
    "    \n",
    "    xx, yy = city_centroid.x, city_centroid.y\n",
    "\n",
    "    circle_lats, circle_lngs, b = create_circle_around_coord(yy, xx, 7.5)\n",
    "\n",
    "    circle_polygon = Polygon(b)\n",
    "    \n",
    "    shapes = {\n",
    "        \"circle_polygon\": circle_polygon,\n",
    "        \"city_polygon\": city_shape,\n",
    "        \"city_centroid\": city_centroid,\n",
    "        \"circle_lats\": circle_lats,\n",
    "        \"circle_lngs\": circle_lngs,\n",
    "        \"centroid_x\": xx,\n",
    "        \"centroid_y\": yy\n",
    "    }\n",
    "    \n",
    "    return shapes"
   ]
  },
  {
   "cell_type": "code",
   "execution_count": null,
   "id": "sudden-kingston",
   "metadata": {},
   "outputs": [],
   "source": [
    "shapes = load_city_shapes(city_name)"
   ]
  },
  {
   "cell_type": "code",
   "execution_count": null,
   "id": "minus-geography",
   "metadata": {},
   "outputs": [],
   "source": [
    "points = random_points_within(circle_polygon=shapes[\"circle_polygon\"], city_polygon=shapes[\"city_polygon\"], num_points=50)"
   ]
  },
  {
   "cell_type": "code",
   "execution_count": null,
   "id": "north-steps",
   "metadata": {},
   "outputs": [],
   "source": [
    "point_lats = [pt.x for pt in points]\n",
    "point_lngs = [pt.y for pt in points]"
   ]
  },
  {
   "cell_type": "code",
   "execution_count": null,
   "id": "homeless-police",
   "metadata": {},
   "outputs": [],
   "source": [
    "circle_lngs, circle_lats = shapes[\"circle_polygon\"].exterior.xy"
   ]
  },
  {
   "cell_type": "code",
   "execution_count": null,
   "id": "visible-aspect",
   "metadata": {},
   "outputs": [],
   "source": [
    "plt.plot(circle_lngs, circle_lats, '--')\n",
    "plt.scatter(shapes[\"centroid_x\"], shapes[\"centroid_y\"], color='red')\n",
    "plt.scatter(point_lats, point_lngs, alpha=0.3, color=\"gray\")\n",
    "try:\n",
    "    x, y = shapes[\"city_polygon\"].buffer(0).exterior.xy\n",
    "    plt.plot(x, y, color=\"blue\")\n",
    "except AttributeError: # MultiPolygon\n",
    "    g = [x.buffer(0) for x in shapes[\"city_polygon\"].buffer(0).geoms]\n",
    "    for i in range(len(g)):\n",
    "        x, y = g[i].exterior.xy\n",
    "        plt.plot(x, y, color=\"blue\")\n",
    "plt.show()"
   ]
  },
  {
   "cell_type": "code",
   "execution_count": null,
   "id": "federal-design",
   "metadata": {},
   "outputs": [],
   "source": []
  },
  {
   "cell_type": "code",
   "execution_count": null,
   "id": "revised-elephant",
   "metadata": {},
   "outputs": [],
   "source": []
  },
  {
   "cell_type": "code",
   "execution_count": null,
   "id": "universal-irrigation",
   "metadata": {},
   "outputs": [],
   "source": []
  },
  {
   "cell_type": "markdown",
   "id": "negative-reaction",
   "metadata": {},
   "source": [
    "## Routing results"
   ]
  },
  {
   "cell_type": "code",
   "execution_count": null,
   "id": "authorized-publication",
   "metadata": {},
   "outputs": [],
   "source": [
    "raise ValueError"
   ]
  },
  {
   "cell_type": "code",
   "execution_count": null,
   "id": "dedicated-maria",
   "metadata": {},
   "outputs": [],
   "source": [
    "city_name = \"Bucharest\"\n",
    "import pandas as pd"
   ]
  },
  {
   "cell_type": "code",
   "execution_count": null,
   "id": "talented-madness",
   "metadata": {},
   "outputs": [],
   "source": []
  },
  {
   "cell_type": "code",
   "execution_count": null,
   "id": "elementary-guidance",
   "metadata": {},
   "outputs": [],
   "source": [
    "results = {}\n",
    "for vehicle_type in [\"car\", \"bike\"]:\n",
    "    with open(f\"routing/routing_results/{city_name}_{vehicle_type}.json\", \"r\") as f:\n",
    "        results[vehicle_type] = pd.DataFrame(json.load(f))"
   ]
  },
  {
   "cell_type": "code",
   "execution_count": null,
   "id": "helpful-hartford",
   "metadata": {},
   "outputs": [],
   "source": [
    "results[\"car\"]"
   ]
  },
  {
   "cell_type": "code",
   "execution_count": null,
   "id": "banner-queensland",
   "metadata": {},
   "outputs": [],
   "source": [
    "results[\"bike\"][\"distance\"]"
   ]
  },
  {
   "cell_type": "code",
   "execution_count": null,
   "id": "superior-fortune",
   "metadata": {},
   "outputs": [],
   "source": [
    "merged = results[\"car\"].merge(results[\"bike\"], suffixes=[\"_car\", \"_bike\"], left_index=True, right_index=True)"
   ]
  },
  {
   "cell_type": "code",
   "execution_count": null,
   "id": "happy-philip",
   "metadata": {},
   "outputs": [],
   "source": [
    "merged"
   ]
  },
  {
   "cell_type": "code",
   "execution_count": null,
   "id": "chemical-wagner",
   "metadata": {},
   "outputs": [],
   "source": []
  },
  {
   "cell_type": "code",
   "execution_count": null,
   "id": "approved-drive",
   "metadata": {},
   "outputs": [],
   "source": [
    "merged[\"duration_delta\"] = merged[\"duration_bike\"] / merged[\"duration_car\"]\n",
    "merged[\"distance_delta\"] = merged[\"distance_bike\"] / merged[\"distance_car\"]"
   ]
  },
  {
   "cell_type": "code",
   "execution_count": null,
   "id": "traditional-chart",
   "metadata": {},
   "outputs": [],
   "source": [
    "merged"
   ]
  },
  {
   "cell_type": "code",
   "execution_count": null,
   "id": "uniform-operations",
   "metadata": {},
   "outputs": [],
   "source": []
  },
  {
   "cell_type": "code",
   "execution_count": null,
   "id": "illegal-shannon",
   "metadata": {},
   "outputs": [],
   "source": []
  },
  {
   "cell_type": "code",
   "execution_count": null,
   "id": "bibliographic-custody",
   "metadata": {},
   "outputs": [],
   "source": [
    "plt.hist(merged[\"distance_car\"], bins=20, alpha=0.3)\n",
    "plt.hist(merged[\"distance_bike\"], bins=20, alpha=0.3)\n",
    "plt.show()"
   ]
  },
  {
   "cell_type": "code",
   "execution_count": null,
   "id": "vocal-success",
   "metadata": {},
   "outputs": [],
   "source": [
    "plt.hist(merged[\"duration_car\"], bins=20, alpha=0.3)\n",
    "plt.hist(merged[\"duration_bike\"], bins=20, alpha=0.3)\n",
    "plt.show()"
   ]
  },
  {
   "cell_type": "code",
   "execution_count": null,
   "id": "major-advertiser",
   "metadata": {},
   "outputs": [],
   "source": [
    "merged[\"distance_car\"].median()"
   ]
  },
  {
   "cell_type": "code",
   "execution_count": null,
   "id": "behavioral-notion",
   "metadata": {},
   "outputs": [],
   "source": [
    "merged[\"distance_bike\"].median()"
   ]
  },
  {
   "cell_type": "code",
   "execution_count": null,
   "id": "sapphire-clock",
   "metadata": {},
   "outputs": [],
   "source": [
    "merged[\"duration_bike\"].median()"
   ]
  },
  {
   "cell_type": "code",
   "execution_count": null,
   "id": "stuck-andorra",
   "metadata": {},
   "outputs": [],
   "source": []
  },
  {
   "cell_type": "code",
   "execution_count": null,
   "id": "dental-hopkins",
   "metadata": {},
   "outputs": [],
   "source": [
    "merged[\"distance_delta\"].median()"
   ]
  },
  {
   "cell_type": "code",
   "execution_count": null,
   "id": "passive-polls",
   "metadata": {},
   "outputs": [],
   "source": [
    "merged[\"duration_delta\"].median()"
   ]
  },
  {
   "cell_type": "code",
   "execution_count": null,
   "id": "sharing-return",
   "metadata": {},
   "outputs": [],
   "source": []
  }
 ],
 "metadata": {
  "kernelspec": {
   "display_name": "py39",
   "language": "python",
   "name": "py39"
  },
  "language_info": {
   "codemirror_mode": {
    "name": "ipython",
    "version": 3
   },
   "file_extension": ".py",
   "mimetype": "text/x-python",
   "name": "python",
   "nbconvert_exporter": "python",
   "pygments_lexer": "ipython3",
   "version": "3.8.8"
  }
 },
 "nbformat": 4,
 "nbformat_minor": 5
}
